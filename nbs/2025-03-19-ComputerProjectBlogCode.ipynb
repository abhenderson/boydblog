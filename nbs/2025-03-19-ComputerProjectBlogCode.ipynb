{
 "cells": [
  {
   "cell_type": "markdown",
   "id": "04f1c283",
   "metadata": {},
   "source": [
    "# Code to create the Blog using Audrey Feldroy's Basic Blog Code"
   ]
  },
  {
   "cell_type": "markdown",
   "id": "0cb385d4",
   "metadata": {},
   "source": [
    "Blog site code builder for the Computer Blog"
   ]
  },
  {
   "cell_type": "markdown",
   "id": "cfa91eee-ffc0-42b5-bf4a-d874f8015d02",
   "metadata": {},
   "source": [
    "This code is taken from https://github.com/audreyfeldroy/audrey.feldroy.com"
   ]
  },
  {
   "cell_type": "markdown",
   "id": "87d58d31-83c3-4cc6-8d02-491789a6db51",
   "metadata": {},
   "source": [
    "I have adapted this code so that it pulls from local css files and Javascript. It will potentially not have access to an Internet connected server so I need the code to still work. I have also pulled across the prototype from Audrey, that starts to use Tailwind CSS to make the Index page display dense text.\n",
    "I have also changed some of the names of the Notebooks and I am now writing my own Today I Learnt Notebooks etc."
   ]
  },
  {
   "cell_type": "code",
   "execution_count": 1,
   "id": "0eb85e85",
   "metadata": {},
   "outputs": [],
   "source": [
    "#| default_exp main"
   ]
  },
  {
   "cell_type": "code",
   "execution_count": 2,
   "id": "add19f62",
   "metadata": {},
   "outputs": [],
   "source": [
    "#| export\n",
    "from datetime import datetime\n",
    "from execnb.nbio import read_nb\n",
    "from nb2fasthtml.core import render_code_output\n",
    "from fastcore.utils import *\n",
    "from fasthtml.common import *\n",
    "from fasthtml.jupyter import *\n",
    "from importlib.metadata import distributions\n",
    "from IPython.display import display, HTML\n",
    "from monsterui import franken\n",
    "from monsterui.all import Theme\n",
    "from mistletoe import markdown\n",
    "from mistletoe.html_renderer import block_token, HtmlRenderer\n",
    "import pygments\n",
    "from pygments import highlight\n",
    "from pygments.lexers import PythonLexer\n",
    "from pygments.formatters import HtmlFormatter"
   ]
  },
  {
   "cell_type": "code",
   "execution_count": 3,
   "id": "d4297329-031f-4410-a2a1-d32121c777c3",
   "metadata": {},
   "outputs": [],
   "source": [
    "#| export\n",
    "def get_nb_paths(): \n",
    "    root = Path() if IN_NOTEBOOK else Path(\"nbs/\")\n",
    "    return L(root.glob(\"*.ipynb\")).sorted(reverse=True)"
   ]
  },
  {
   "cell_type": "code",
   "execution_count": 4,
   "id": "54fde93e-d470-4260-9fde-34e9056cb20c",
   "metadata": {},
   "outputs": [
    {
     "data": {
      "text/plain": [
       "(#8) [Path('UndatedTestNotebook.ipynb'),Path('2025-03-26-LMStudioAndFabric.ipynb'),Path('2025-03-25-PythonScripts.ipynb'),Path('2025-03-24-WSL2Commands.ipynb'),Path('2025-03-23-UbuntuServerInstall.ipynb'),Path('2025-03-21-UsingPodmanInUbuntu.ipynb'),Path('2025-03-20-Useful-Linux-Commands.ipynb'),Path('2025-03-19-ComputerProjectBlogCode.ipynb')]"
      ]
     },
     "execution_count": 4,
     "metadata": {},
     "output_type": "execute_result"
    }
   ],
   "source": [
    "#| export\n",
    "nbpaths = get_nb_paths()\n",
    "nbpaths"
   ]
  },
  {
   "cell_type": "code",
   "execution_count": 5,
   "id": "0aede159",
   "metadata": {},
   "outputs": [
    {
     "data": {
      "text/plain": [
       "True"
      ]
     },
     "execution_count": 5,
     "metadata": {},
     "output_type": "execute_result"
    }
   ],
   "source": [
    "IN_NOTEBOOK"
   ]
  },
  {
   "cell_type": "markdown",
   "id": "62baa1df",
   "metadata": {},
   "source": [
    "## Setup"
   ]
  },
  {
   "cell_type": "code",
   "execution_count": 6,
   "id": "f620a8b3",
   "metadata": {},
   "outputs": [],
   "source": [
    "#| export\n",
    "# app,rt = fast_app(pico=False)\n",
    "app,rt = fast_app(\n",
    "    pico=False,\n",
    "    ws_hdr=True,\n",
    "    live=False,\n",
    "    default_hdrs=False,\n",
    "    hdrs=(\n",
    "#        Link(rel='stylesheet', href='static/pico.min.css'),\n",
    "        Link(rel=\"stylesheet\", href=\"static/tailwind.css\"),\n",
    "        Script(src=\"static/htmx.min.js\"),\n",
    "        Script(src=\"static/fasthtml.js\"),\n",
    "        Script(src=\"static/surreal.js\"),\n",
    "        Script(src=\"static/script.js\"),\n",
    "        Script(src=\"static/index.global.js\"),\n",
    "        Meta(charset='utf-8'),\n",
    "#        Script(type='module')\n",
    "    ),\n",
    ")"
   ]
  },
  {
   "cell_type": "code",
   "execution_count": 7,
   "id": "ef898649",
   "metadata": {},
   "outputs": [
    {
     "data": {
      "text/html": [
       "\n",
       "<script>\n",
       "document.body.addEventListener('htmx:configRequest', (event) => {\n",
       "    if(event.detail.path.includes('://')) return;\n",
       "    htmx.config.selfRequestsOnly=false;\n",
       "    event.detail.path = `${location.protocol}//${location.hostname}:8000${event.detail.path}`;\n",
       "});\n",
       "</script>"
      ],
      "text/plain": [
       "<IPython.core.display.HTML object>"
      ]
     },
     "metadata": {},
     "output_type": "display_data"
    }
   ],
   "source": [
    "server = JupyUvi(app)"
   ]
  },
  {
   "cell_type": "code",
   "execution_count": 8,
   "id": "cdf12a88",
   "metadata": {},
   "outputs": [],
   "source": [
    "# server.stop()"
   ]
  },
  {
   "cell_type": "markdown",
   "id": "6e42d290",
   "metadata": {},
   "source": [
    "## Utilities"
   ]
  },
  {
   "cell_type": "code",
   "execution_count": 9,
   "id": "86b59795",
   "metadata": {},
   "outputs": [],
   "source": [
    "#| export\n",
    "def get_nb_paths(): \n",
    "    root = Path() if IN_NOTEBOOK else Path(\"nbs/\")\n",
    "    return L(root.glob(\"*.ipynb\")).sorted(reverse=True)"
   ]
  },
  {
   "cell_type": "code",
   "execution_count": 10,
   "id": "5fa48a4c",
   "metadata": {},
   "outputs": [
    {
     "data": {
      "text/plain": [
       "(#8) [Path('UndatedTestNotebook.ipynb'),Path('2025-03-26-LMStudioAndFabric.ipynb'),Path('2025-03-25-PythonScripts.ipynb'),Path('2025-03-24-WSL2Commands.ipynb'),Path('2025-03-23-UbuntuServerInstall.ipynb'),Path('2025-03-21-UsingPodmanInUbuntu.ipynb'),Path('2025-03-20-Useful-Linux-Commands.ipynb'),Path('2025-03-19-ComputerProjectBlogCode.ipynb')]"
      ]
     },
     "execution_count": 10,
     "metadata": {},
     "output_type": "execute_result"
    }
   ],
   "source": [
    "nb_paths = get_nb_paths()\n",
    "nb_paths"
   ]
  },
  {
   "cell_type": "code",
   "execution_count": 11,
   "id": "276f6cf6",
   "metadata": {},
   "outputs": [],
   "source": [
    "#| export\n",
    "def get_title_and_desc(fpath):\n",
    "    nb = read_nb(fpath)\n",
    "    title = nb.cells[0].source.lstrip(\"# \")\n",
    "    desc = nb.cells[1].source\n",
    "    return title,desc"
   ]
  },
  {
   "cell_type": "code",
   "execution_count": 12,
   "id": "4af76a99",
   "metadata": {},
   "outputs": [
    {
     "data": {
      "text/plain": [
       "('Test Notebook with no date prefix',\n",
       " 'This is a test to see whether I can have an undated notebook.')"
      ]
     },
     "execution_count": 12,
     "metadata": {},
     "output_type": "execute_result"
    }
   ],
   "source": [
    "get_title_and_desc(nb_paths[0])"
   ]
  },
  {
   "cell_type": "code",
   "execution_count": 13,
   "id": "714cf366-569a-402f-acbb-eac4cf8452e7",
   "metadata": {},
   "outputs": [],
   "source": [
    "#| export\n",
    "def NBLink(title, desc, href, date):\n",
    "    return Div(\n",
    "        A(f\"{date:%b %-d} • {title}\", href=href, cls=\"text-md font-semibold hover:text-blue-600 no-underline block\"),\n",
    "        P(desc, cls=\"text-s text-gray-500 mt-0.5 mb-2\"),\n",
    "        cls=\"py-1 break-inside-avoid\")"
   ]
  },
  {
   "cell_type": "code",
   "execution_count": 14,
   "id": "29a60b1a-a3c7-453b-ae19-f4a8511c7d9a",
   "metadata": {},
   "outputs": [],
   "source": [
    "#| export\n",
    "def mk_nblink_from_nbpath(nbpath):\n",
    "    date = get_date_from_iso8601_prefix(nbpath.name) or datetime.now()\n",
    "    return NBLink(*get_title_and_desc(nbpath), href=f'/nbs/{nbpath.name[:-6]}', date=date)"
   ]
  },
  {
   "cell_type": "code",
   "execution_count": 15,
   "id": "2e2447f8",
   "metadata": {},
   "outputs": [],
   "source": [
    "#| export\n",
    "def get_date_from_iso8601_prefix(fname):\n",
    "    \"Gets date from first 10 chars YYYY-MM-DD of `fname`, where `fname` is like `2025-01-12-Get-Date-From-This.whatever\"\n",
    "    try:\n",
    "        return datetime.fromisoformat(str(fname)[0:10])\n",
    "    except ValueError: return datetime.now()"
   ]
  },
  {
   "cell_type": "code",
   "execution_count": 16,
   "id": "62de68ef",
   "metadata": {},
   "outputs": [
    {
     "data": {
      "text/plain": [
       "datetime.datetime(2025, 3, 24, 11, 43, 27, 916619)"
      ]
     },
     "execution_count": 16,
     "metadata": {},
     "output_type": "execute_result"
    }
   ],
   "source": [
    "date = get_date_from_iso8601_prefix(nb_paths[0].name)\n",
    "date"
   ]
  },
  {
   "cell_type": "code",
   "execution_count": 17,
   "id": "16c96b40",
   "metadata": {},
   "outputs": [
    {
     "data": {
      "text/plain": [
       "datetime.datetime(2025, 3, 24, 11, 43, 28, 260715)"
      ]
     },
     "execution_count": 17,
     "metadata": {},
     "output_type": "execute_result"
    }
   ],
   "source": [
    "date = get_date_from_iso8601_prefix(None)\n",
    "date"
   ]
  },
  {
   "cell_type": "markdown",
   "id": "334c90d4",
   "metadata": {},
   "source": [
    "## Notebook Cards"
   ]
  },
  {
   "cell_type": "code",
   "execution_count": 18,
   "id": "808592df",
   "metadata": {},
   "outputs": [],
   "source": [
    "#| export\n",
    "def NBCard(title,desc,href,date):\n",
    "    return A(\n",
    "        franken.Card(\n",
    "        franken.CardTitle(franken.H3(title)), \n",
    "        franken.P(f\"{date:%a, %b %-d, %Y}\", cls=franken.TextPresets.muted_sm),\n",
    "        franken.P(desc),\n",
    "        body_cls='space-y-2'\n",
    "    ), href=href)"
   ]
  },
  {
   "cell_type": "code",
   "execution_count": 19,
   "id": "17b9b07c",
   "metadata": {},
   "outputs": [],
   "source": [
    "#| export\n",
    "def mk_nbcard_from_nb_path(nb_path):\n",
    "    date = get_date_from_iso8601_prefix(nb_path.name) or datetime.now()\n",
    "    return NBCard(*get_title_and_desc(nb_path), href=f'/nbs/{nb_path.name[:-6]}', date=date)"
   ]
  },
  {
   "cell_type": "markdown",
   "id": "cfd26c76",
   "metadata": {},
   "source": [
    "## Nav"
   ]
  },
  {
   "cell_type": "code",
   "execution_count": 20,
   "id": "826787b1",
   "metadata": {},
   "outputs": [],
   "source": [
    "#| export\n",
    "def InLi(linktuple):\n",
    "    txt, href = linktuple\n",
    "    return Li(A(txt, href=href), style=\"display:inline;margin-right:1em\")"
   ]
  },
  {
   "cell_type": "code",
   "execution_count": 21,
   "id": "3cd7d281",
   "metadata": {},
   "outputs": [],
   "source": [
    "#| export\n",
    "def InlineNav():\n",
    "    nls = L(\n",
    "        (\"Alex Henderson Computer Project Blog\", \"http://ubuntu2410blog:8000\"),\n",
    "        (\"GitHub repo for this site\", \"https://github.com/abhenderson\")\n",
    "    )\n",
    "    return Nav(\n",
    "        Ul(\n",
    "            *nls.map(InLi),\n",
    "            style=\"list-style:none;padding-left:0\"\n",
    "        ),\n",
    "        aria_label=\"Main navigation\",\n",
    "        role=\"navigation\"\n",
    "    )"
   ]
  },
  {
   "cell_type": "markdown",
   "id": "0365d895",
   "metadata": {},
   "source": [
    "## Index Page"
   ]
  },
  {
   "cell_type": "code",
   "execution_count": 22,
   "id": "be20a58d",
   "metadata": {},
   "outputs": [],
   "source": [
    "#| export\n",
    "@rt\n",
    "def index():\n",
    "    nb_paths = get_nb_paths()\n",
    "    return (\n",
    "#        Theme.blue.headers(),\n",
    "#        Script(src=\"https://unpkg.com/@tailwindcss/browser@4\"),\n",
    "#        Script(src=\"static/index.global.js\"),\n",
    "#        Script(src=\"/static/index.global.js\"),\n",
    "        Script(src=\"/static/tailwind.css\"),\n",
    "        Link(rel=\"stylesheet\", href=\"static/tailwind.css\"),\n",
    "        Title(\"Alex Henderson Computer Project Blog\"),\n",
    "        Div(\n",
    "            H1('Alex Henderson Computer Project Blog', cls=\"text-2x1 font-bold mb-2 dark:text-gray-100\"),\n",
    "            P(\n",
    "                \"Project Notebooks and Notes for my Computer Tasks \",\n",
    "                A(\"github.com/abhenderson\",\n",
    "                  href=\"https://github.com/abhenderson\",\n",
    "                  cls=\"text-blue-600 hover:text-blue-800 dark:text-blue-400 dark:hover:text-blue-300\"),\n",
    "                cls=\"mb-4 text-gray-600 dark:text-gray-300 text-sm\"\n",
    "            ),\n",
    "            Div(\n",
    "                *nbpaths.map(mk_nblink_from_nbpath),\n",
    "                cls=\"grid grid-cols-1 sm:grid-cols-2 lg:grid-cols-3 xl:grid-cols-4 gap-x-6 gap-y-2\"\n",
    "            ),\n",
    "            cls=\"mx-auto px-2 py-4 dark:bg-gray-900 min-h-screen\"\n",
    "#            cls=\"md:flex\"\n",
    "#            cls=\"px-4 py-8 w-full columns-1 md:columns-2 lg:columns-3 gap-6\"\n",
    "        ),\n",
    "    )\n",
    "\n",
    "\"\"\"\n",
    "        franken.Container(\n",
    "#             InlineNav(),  # TODO: Fix incompatibilities with MonsterUI\n",
    "            Div(\n",
    "                franken.H1('Alex Henderson Computer Project Blog'),\n",
    "                franken.P(\"Lessons I am learning from my various computer projects \", franken.A(\"About Me\", href=\"/about\")),\n",
    "                franken.P(\"Notebooks I use to track my learning \", franken.A(\"Alex Project Blog\", href=\"https://github.com/abhenderson\"), cls=\"mb-6\"),\n",
    "            ),\n",
    "            franken.Grid(*nb_paths.map(mk_nbcard_from_nb_path), cols_sm=1, cols_md=1, cols_lg=2, cols_xl=3)\n",
    "        )\n",
    "\"\"\"\n",
    "\n",
    "def NBLink(title, desc, href, date):\n",
    "    return Div(\n",
    "        A(\n",
    "            Div(\n",
    "                f\"{date:%b %-d}\", \n",
    "                cls=\"text-xs font-medium text-gray-500 dark:text-gray-400\"\n",
    "            ),\n",
    "            Div(\n",
    "                title,\n",
    "                cls=\"text-base font-medium leading-snug hover:text-blue-600 dark:text-gray-100 dark:hover:text-blue-400\"\n",
    "            ),\n",
    "            P(\n",
    "                desc,\n",
    "                cls=\"text-xs text-gray-600 dark:text-gray-400 mt-0.5 line-clamp-2\"\n",
    "            ),\n",
    "            href=href,\n",
    "            cls=\"block no-underline hover:bg-gray-50 dark:hover:bg-gray-800 p-2 rounded transition-colors\"\n",
    "        ),\n",
    "        cls=\"break-inside-avoid\"\n",
    "    )"
   ]
  },
  {
   "cell_type": "markdown",
   "id": "79e6e965",
   "metadata": {},
   "source": [
    "## About\n",
    "This is a test update to the file."
   ]
  },
  {
   "cell_type": "code",
   "execution_count": 23,
   "id": "c7b8c73d-e9fe-4d94-822b-30315e2d6c55",
   "metadata": {},
   "outputs": [],
   "source": [
    "#| export\n",
    "@rt\n",
    "def about():\n",
    "    nb_paths = get_nb_paths()\n",
    "    return (\n",
    "        Style(':root {font-family: system-ui, -apple-system, \"Segoe UI\", Roboto, \"Helvetica Neue\", sans-serif; color-scheme: light dark;} body {background-color: light-dark(#ffffff, #1a1a1a); color: light-dark(#1a1a1a, #ffffff);} p {line-height: 1.5;}'),\n",
    "        Theme.blue.headers(),\n",
    "#        InlineNav(),\n",
    "        Title(\"About page\"),\n",
    "        franken.Container(\n",
    "            InlineNav(),\n",
    "            Div(\n",
    "                franken.H1('About Page'), franken.P(\"My about page\"), cls=\"mb-6\"),\n",
    "        ),\n",
    "    )"
   ]
  },
  {
   "cell_type": "markdown",
   "id": "2a75a334",
   "metadata": {},
   "source": [
    "## Notebook Cells"
   ]
  },
  {
   "cell_type": "code",
   "execution_count": 24,
   "id": "d80d771e",
   "metadata": {},
   "outputs": [],
   "source": [
    "#| export\n",
    "def StyledCode(c, style='monokai'):\n",
    "    fm = HtmlFormatter(style=style, cssclass=style, prestyles=\"padding:10px 0;\")\n",
    "    h = highlight(c, PythonLexer(), fm)\n",
    "    sd = fm.get_style_defs(f\".{style}\")\n",
    "    return Style(sd), NotStr(h)"
   ]
  },
  {
   "cell_type": "code",
   "execution_count": 25,
   "id": "e6877c0a",
   "metadata": {},
   "outputs": [],
   "source": [
    "#| export\n",
    "class MonsterHtmlRenderer(HtmlRenderer):\n",
    "    def render_heading(self, token: block_token.Heading) -> str:\n",
    "        template = '<h{level} class=\"uk-h{level}\">{inner}</h{level}>'\n",
    "        inner = self.render_inner(token)\n",
    "        return template.format(level=token.level, inner=inner)"
   ]
  },
  {
   "cell_type": "code",
   "execution_count": 26,
   "id": "f597b0c5",
   "metadata": {},
   "outputs": [],
   "source": [
    "#| export\n",
    "def StyledMd(m):\n",
    "    return Safe(markdown(m, MonsterHtmlRenderer))"
   ]
  },
  {
   "cell_type": "code",
   "execution_count": 27,
   "id": "68b75481",
   "metadata": {},
   "outputs": [],
   "source": [
    "#| export\n",
    "def StyledCell(c):\n",
    "    if c.cell_type == \"markdown\": return StyledMd(c.source)\n",
    "    if c.cell_type == \"code\": \n",
    "        if not c.outputs: return StyledCode(c.source)\n",
    "        return StyledCode(c.source), render_code_output(c)"
   ]
  },
  {
   "cell_type": "markdown",
   "id": "60ede619",
   "metadata": {},
   "source": [
    "## Detail Page"
   ]
  },
  {
   "cell_type": "code",
   "execution_count": 28,
   "id": "8a993e3c",
   "metadata": {},
   "outputs": [],
   "source": [
    "#| export\n",
    "@rt(\"/nbs/{name}\")\n",
    "def notebook(name:str):\n",
    "    fname = f\"{name}.ipynb\" if IN_NOTEBOOK else f\"nbs/{name}.ipynb\"\n",
    "    fpath = Path(fname)\n",
    "    nb = read_nb(fpath)\n",
    "    title = nb.cells[0].source.lstrip(\"# \")\n",
    "    date = get_date_from_iso8601_prefix(fname.lstrip(\"nbs/\"))\n",
    "    desc = nb.cells[1].source\n",
    "    if \"MonsterUI\" in title:\n",
    "        return (\n",
    "            Theme.slate.headers(),\n",
    "#             InlineNav(),  # TODO: Fix incompatibilities with MonsterUI\n",
    "            Title(title),\n",
    "            franken.Container(\n",
    "                Header(\n",
    "                    # TODO: refactor Tailwind margin classes to use MonsterUI DivVStacked or DivFullySpaced\n",
    "                    franken.H1(title, cls=(\"my-6\",)),\n",
    "                    franken.P(f\"by Alex Henderson Blog | {date:%a, %b %-d, %Y}\", cls=(franken.TextT.sm, franken.PaddingT.lg, \"mb-6\")),\n",
    "                    franken.P(desc, cls=(\"mb-6\",)),\n",
    "                    Hr()\n",
    "                ),\n",
    "                *L(nb.cells[2:]).map(StyledCell),\n",
    "                cls=\"space-y-5\"\n",
    "            )\n",
    "    )\n",
    "    return (\n",
    "        Style(':root {font-family: system-ui, -apple-system, \"Segoe UI\", Roboto, \"Helvetica Neue\", sans-serif; color-scheme: light dark;} body {background-color: light-dark(#ffffff, #1a1a1a); color: light-dark(#1a1a1a, #ffffff);} p {line-height: 1.5;}'),\n",
    "        InlineNav(),\n",
    "        Title(title),\n",
    "        Div(\n",
    "            H1(title), # Title\n",
    "            P(Small(f\"by Alex Henderson Blog | {date:%a, %b %-d, %Y}\")),\n",
    "            P(desc),\n",
    "            Hr(),\n",
    "            *L(nb.cells[2:]).map(StyledCell),\n",
    "            cls=\"space-y-5\"\n",
    "        )\n",
    "    )"
   ]
  },
  {
   "cell_type": "markdown",
   "id": "f3f89fb0",
   "metadata": {},
   "source": [
    "## Python Package Versions"
   ]
  },
  {
   "cell_type": "code",
   "execution_count": 29,
   "id": "a55b6d0d",
   "metadata": {},
   "outputs": [],
   "source": [
    "#| export\n",
    "@rt\n",
    "def versions():\n",
    "    dists = L([NS(name=dist.metadata['Name'], version=dist.version) for dist in distributions()]).sorted('name')\n",
    "    dists = [Li(f'{d.name}: {d.version}') for d in dists]\n",
    "    return (Title('Python Package Versions'),\n",
    "        Style(':root {font-family: system-ui, -apple-system, \"Segoe UI\", Roboto, \"Helvetica Neue\", sans-serif; color-scheme: light dark;} body {background-color: light-dark(#ffffff, #1a1a1a); color: light-dark(#1a1a1a, #ffffff);} p {line-height: 1.5;}'),   \n",
    "        Div(\n",
    "            H1('Python Package Versions'),\n",
    "            Ul(*dists)          \n",
    "        )       \n",
    "    )"
   ]
  },
  {
   "cell_type": "markdown",
   "id": "b514e4fc",
   "metadata": {},
   "source": [
    "## .well-known"
   ]
  },
  {
   "cell_type": "code",
   "execution_count": 30,
   "id": "98b89d38",
   "metadata": {},
   "outputs": [],
   "source": [
    "#| export\n",
    "@rt('/.well-known/{fname}')\n",
    "def wellknown(fname: str):\n",
    "    fpath = f\"../.well-known/{fname}\" if IN_NOTEBOOK else f\".well-known/{fname}\"\n",
    "    return Path(fpath).read_text()"
   ]
  },
  {
   "cell_type": "markdown",
   "id": "effdceaf",
   "metadata": {},
   "source": [
    "## Serve"
   ]
  },
  {
   "cell_type": "code",
   "execution_count": 31,
   "id": "1d2ac54d",
   "metadata": {},
   "outputs": [],
   "source": [
    "#| export\n",
    "serve()"
   ]
  },
  {
   "cell_type": "markdown",
   "id": "2e83a46b",
   "metadata": {},
   "source": [
    "## Export"
   ]
  },
  {
   "cell_type": "markdown",
   "id": "780d6dbe",
   "metadata": {},
   "source": [
    "To export this notebook as [audrey.feldroy.com's main.py](https://github.com/audreyfeldroy/audrey.feldroy.com/blob/main/main.py):"
   ]
  },
  {
   "cell_type": "code",
   "execution_count": 32,
   "id": "2e66d93f",
   "metadata": {},
   "outputs": [],
   "source": [
    "from nbdev.export import nb_export\n",
    "# nb_export(\"2025-02-07-This-Site-Is-Now-Powered-by-This-Notebook-Part-6.ipynb\", lib_path=\"..\")\n",
    "nb_export(\"2025-03-19-ComputerProjectBlogCode.ipynb\", lib_path=\"..\")"
   ]
  },
  {
   "cell_type": "markdown",
   "id": "0f2024ce-9e28-40d0-807b-64260c20c266",
   "metadata": {},
   "source": [
    "## Stop server "
   ]
  },
  {
   "cell_type": "code",
   "execution_count": null,
   "id": "2bd61e10-b8b7-471e-87bd-40d1bd4f6cc9",
   "metadata": {},
   "outputs": [],
   "source": [
    "server.stop()"
   ]
  },
  {
   "cell_type": "code",
   "execution_count": null,
   "id": "245d3efc-9be8-4f6b-9f27-93660360989d",
   "metadata": {},
   "outputs": [],
   "source": []
  }
 ],
 "metadata": {
  "kernelspec": {
   "display_name": "Python 3 (ipykernel)",
   "language": "python",
   "name": "python3"
  },
  "language_info": {
   "codemirror_mode": {
    "name": "ipython",
    "version": 3
   },
   "file_extension": ".py",
   "mimetype": "text/x-python",
   "name": "python",
   "nbconvert_exporter": "python",
   "pygments_lexer": "ipython3",
   "version": "3.12.7"
  }
 },
 "nbformat": 4,
 "nbformat_minor": 5
}
