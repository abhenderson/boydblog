{
 "cells": [
  {
   "cell_type": "markdown",
   "id": "7bfd3915-8dba-4be3-936b-d9a7449f964a",
   "metadata": {},
   "source": [
    "# Test Notebook with no date prefix"
   ]
  },
  {
   "cell_type": "markdown",
   "id": "40ab40cf-6cb0-4516-acda-c9b128775d1b",
   "metadata": {},
   "source": [
    "This is a test to see whether I can have an undated notebook."
   ]
  }
 ],
 "metadata": {
  "kernelspec": {
   "display_name": "Python 3 (ipykernel)",
   "language": "python",
   "name": "python3"
  },
  "language_info": {
   "codemirror_mode": {
    "name": "ipython",
    "version": 3
   },
   "file_extension": ".py",
   "mimetype": "text/x-python",
   "name": "python",
   "nbconvert_exporter": "python",
   "pygments_lexer": "ipython3",
   "version": "3.12.7"
  }
 },
 "nbformat": 4,
 "nbformat_minor": 5
}
