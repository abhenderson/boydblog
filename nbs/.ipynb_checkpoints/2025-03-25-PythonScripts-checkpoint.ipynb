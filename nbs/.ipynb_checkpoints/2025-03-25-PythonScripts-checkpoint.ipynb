{
 "cells": [
  {
   "cell_type": "markdown",
   "id": "52072774-a20f-4f5f-b5cf-72630b55c290",
   "metadata": {},
   "source": [
    "## Python Scripts I use to process things"
   ]
  },
  {
   "cell_type": "markdown",
   "id": "41177147-c499-4144-855a-e255af6dda77",
   "metadata": {},
   "source": [
    "Different Python scripts that I use to process things."
   ]
  }
 ],
 "metadata": {
  "kernelspec": {
   "display_name": "Python 3 (ipykernel)",
   "language": "python",
   "name": "python3"
  },
  "language_info": {
   "codemirror_mode": {
    "name": "ipython",
    "version": 3
   },
   "file_extension": ".py",
   "mimetype": "text/x-python",
   "name": "python",
   "nbconvert_exporter": "python",
   "pygments_lexer": "ipython3",
   "version": "3.12.7"
  }
 },
 "nbformat": 4,
 "nbformat_minor": 5
}
