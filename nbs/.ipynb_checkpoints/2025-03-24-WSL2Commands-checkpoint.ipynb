{
 "cells": [
  {
   "cell_type": "markdown",
   "id": "0b07eccc-6029-48fb-8f76-0aff72944057",
   "metadata": {},
   "source": [
    "# WSL 2 Commands that I use"
   ]
  },
  {
   "cell_type": "markdown",
   "id": "9172b161-7097-43ae-8f8e-17a11eb7eb4f",
   "metadata": {},
   "source": [
    "List of commands I use in WSL 2 in Powershell to create, backup, import, export etc"
   ]
  },
  {
   "cell_type": "markdown",
   "id": "41455536-da27-46b9-a1e9-014f62cbb368",
   "metadata": {},
   "source": [
    "### Overview"
   ]
  },
  {
   "cell_type": "markdown",
   "id": "f3986a6a-439f-43b6-ab95-a2b6081434c3",
   "metadata": {},
   "source": [
    "Commands to run, export, import to custom location in WSL2\n",
    "### Create WSL Instance\n",
    "List the installable distributions\n",
    "Install, but you can now set the installation directory so you don't need to do an export import to custom location now.\n",
    "```Powershell\n",
    "wsl -l -o\n",
    "wsl --install -d Ubuntu-24.04 --name <instance name> --location <install folder location>\n",
    "```\n",
    "### List all WSL2 Instances\n",
    "```Powershell\n",
    "wsl -l -v\n",
    "```\n",
    "### Export a WSL2 instance\n",
    "``` Powershell\n",
    "wsl --export <WSL2 Instance Name> <Path and filename of backup>\n",
    "```\n",
    "### Import to a custom location\n",
    "```\n",
    "wsl --import <Instance Name> <Location for installation of instance> <WSL2 Back up file .tar>\n",
    "```\n",
    "### Remove the instance\n",
    "This deletes the .vhdx file, but does not remove the folder.\n",
    "```Powershell\n",
    "wsl --unregister <WSL2 Instance Name>\n",
    "```\n",
    "### Terminate WSL2 Instance\n",
    "```Powershell\n",
    "wsl --terminate <WSL2 Instance Name>\n",
    "```"
   ]
  }
 ],
 "metadata": {
  "kernelspec": {
   "display_name": "Python 3 (ipykernel)",
   "language": "python",
   "name": "python3"
  },
  "language_info": {
   "codemirror_mode": {
    "name": "ipython",
    "version": 3
   },
   "file_extension": ".py",
   "mimetype": "text/x-python",
   "name": "python",
   "nbconvert_exporter": "python",
   "pygments_lexer": "ipython3",
   "version": "3.12.7"
  }
 },
 "nbformat": 4,
 "nbformat_minor": 5
}
