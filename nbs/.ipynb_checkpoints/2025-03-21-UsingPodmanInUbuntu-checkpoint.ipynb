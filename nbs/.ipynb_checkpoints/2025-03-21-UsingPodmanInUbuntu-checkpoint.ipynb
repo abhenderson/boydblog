{
 "cells": [
  {
   "cell_type": "markdown",
   "id": "13642dbe-bd75-4aab-8057-21028c6ea425",
   "metadata": {},
   "source": [
    "## Running Podman with Ubuntu"
   ]
  },
  {
   "cell_type": "markdown",
   "id": "3cba29f2-0dc0-4ae5-a9f7-4429b81ad321",
   "metadata": {},
   "source": [
    "Notes for Podman using it with Ubuntu and Rocky Linux"
   ]
  },
  {
   "cell_type": "markdown",
   "id": "3112daef-dd61-4e99-9d60-6915e7a19627",
   "metadata": {},
   "source": [
    "### Overview"
   ]
  },
  {
   "cell_type": "markdown",
   "id": "c81b6480-9327-4a45-b69c-036bd65e46a1",
   "metadata": {},
   "source": [
    "Ubuntu and Rocky Linux"
   ]
  },
  {
   "cell_type": "markdown",
   "id": "a3da9dd1-0dfd-40eb-80f7-20133a074ed3",
   "metadata": {},
   "source": [
    "```bash\n",
    "sudo apt install podman\n",
    "sudo apt \n",
    "podman ps -a\n",
    "# Bash code with comments\n",
    "```"
   ]
  },
  {
   "cell_type": "code",
   "execution_count": null,
   "id": "559f77f7-4b01-4f90-9eb7-d256c37046f1",
   "metadata": {},
   "outputs": [],
   "source": []
  }
 ],
 "metadata": {
  "kernelspec": {
   "display_name": "Python 3 (ipykernel)",
   "language": "python",
   "name": "python3"
  },
  "language_info": {
   "codemirror_mode": {
    "name": "ipython",
    "version": 3
   },
   "file_extension": ".py",
   "mimetype": "text/x-python",
   "name": "python",
   "nbconvert_exporter": "python",
   "pygments_lexer": "ipython3",
   "version": "3.12.7"
  }
 },
 "nbformat": 4,
 "nbformat_minor": 5
}
