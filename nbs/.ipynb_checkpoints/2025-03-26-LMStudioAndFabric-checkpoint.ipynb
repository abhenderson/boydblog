{
 "cells": [
  {
   "cell_type": "markdown",
   "id": "7e4f199d-bfd1-40c9-9bc5-dd9c0a0c1a12",
   "metadata": {},
   "source": [
    "## Getting LMStudio to work"
   ]
  },
  {
   "cell_type": "markdown",
   "id": "0fb5c3ed-c42f-4e33-a7d2-4140028f27cb",
   "metadata": {},
   "source": [
    "Notes on LMStudio and Fabric"
   ]
  },
  {
   "cell_type": "markdown",
   "id": "8c20bc16-b3e4-4b2f-8af6-9ae3ad31ab92",
   "metadata": {},
   "source": [
    "The following link shows the issue I am having with the rocminfo, when you have more than one graphics card installed. It works when there is only one graphics card enabled.\n",
    "https://github.com/ROCm/ROCm/issues/4460\n",
    "https://rocm.docs.amd.com/projects/radeon/en/latest/docs/install/wsl/install-radeon.html\n",
    "https://github.com/ROCm/ROCm\n",
    "https://www.amd.com/en/products/software/rocm/ai.html\n"
   ]
  },
  {
   "cell_type": "code",
   "execution_count": null,
   "id": "7a1b428f-edd8-42d7-8e4e-7ed8990204b4",
   "metadata": {},
   "outputs": [],
   "source": []
  }
 ],
 "metadata": {
  "kernelspec": {
   "display_name": "Python 3 (ipykernel)",
   "language": "python",
   "name": "python3"
  },
  "language_info": {
   "codemirror_mode": {
    "name": "ipython",
    "version": 3
   },
   "file_extension": ".py",
   "mimetype": "text/x-python",
   "name": "python",
   "nbconvert_exporter": "python",
   "pygments_lexer": "ipython3",
   "version": "3.12.7"
  }
 },
 "nbformat": 4,
 "nbformat_minor": 5
}
