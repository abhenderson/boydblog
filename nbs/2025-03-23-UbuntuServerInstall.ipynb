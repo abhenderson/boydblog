{
 "cells": [
  {
   "cell_type": "markdown",
   "id": "dd6bdba7-dd86-4706-b228-ee9100b7357d",
   "metadata": {},
   "source": [
    "## Ubuntu Server Install"
   ]
  },
  {
   "cell_type": "markdown",
   "id": "f1dc8f9f-cf3d-4741-9b66-7e43f7965e6a",
   "metadata": {},
   "source": [
    "Installation Ubuntu Server details"
   ]
  },
  {
   "cell_type": "markdown",
   "id": "6e715faf-14c6-4492-ad3e-7200481e239b",
   "metadata": {},
   "source": [
    "### Overview\n",
    "Normal text here with commands below."
   ]
  },
  {
   "cell_type": "markdown",
   "id": "2098df25-ed05-4cce-bb5e-d5a3ac4ddf9f",
   "metadata": {},
   "source": [
    "```python\n",
    "print(\"Hello World\")\n",
    "```\n",
    "text test too\n",
    "more text\n",
    "\n"
   ]
  }
 ],
 "metadata": {
  "kernelspec": {
   "display_name": "Python 3 (ipykernel)",
   "language": "python",
   "name": "python3"
  },
  "language_info": {
   "codemirror_mode": {
    "name": "ipython",
    "version": 3
   },
   "file_extension": ".py",
   "mimetype": "text/x-python",
   "name": "python",
   "nbconvert_exporter": "python",
   "pygments_lexer": "ipython3",
   "version": "3.12.7"
  }
 },
 "nbformat": 4,
 "nbformat_minor": 5
}
