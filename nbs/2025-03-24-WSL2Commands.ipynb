{
 "cells": [
  {
   "cell_type": "markdown",
   "id": "0b07eccc-6029-48fb-8f76-0aff72944057",
   "metadata": {},
   "source": [
    "### WSL 2 Commands that I use"
   ]
  },
  {
   "cell_type": "markdown",
   "id": "9172b161-7097-43ae-8f8e-17a11eb7eb4f",
   "metadata": {},
   "source": [
    "List of commands I use in WSL 2 in Powershell to create, backup, import, export etc"
   ]
  }
 ],
 "metadata": {
  "kernelspec": {
   "display_name": "Python 3 (ipykernel)",
   "language": "python",
   "name": "python3"
  },
  "language_info": {
   "codemirror_mode": {
    "name": "ipython",
    "version": 3
   },
   "file_extension": ".py",
   "mimetype": "text/x-python",
   "name": "python",
   "nbconvert_exporter": "python",
   "pygments_lexer": "ipython3",
   "version": "3.12.7"
  }
 },
 "nbformat": 4,
 "nbformat_minor": 5
}
